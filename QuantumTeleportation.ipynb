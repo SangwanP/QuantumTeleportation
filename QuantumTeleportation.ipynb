{
 "cells": [
  {
   "cell_type": "markdown",
   "metadata": {},
   "source": [
    "## Quantum Teleportation Notebook"
   ]
  },
  {
   "cell_type": "code",
   "execution_count": 71,
   "metadata": {},
   "outputs": [
    {
     "name": "stderr",
     "output_type": "stream",
     "text": [
      "Credentials are already in use. The existing account in the session will be replaced.\n"
     ]
    }
   ],
   "source": [
    "%matplotlib inline\n",
    "# Importing standard Qiskit libraries and configuring account\n",
    "from qiskit import QuantumCircuit, execute, Aer, IBMQ\n",
    "from qiskit.compiler import transpile, assemble\n",
    "from qiskit.tools.jupyter import *\n",
    "from qiskit.visualization import *\n",
    "# Loading your IBM Q account(s)\n",
    "provider = IBMQ.load_account()"
   ]
  },
  {
   "cell_type": "code",
   "execution_count": 72,
   "metadata": {},
   "outputs": [],
   "source": [
    "# Run the circuit on a simulator\n",
    "def run_circuit(circuit, shots):\n",
    "    # Use Aer's qasm_simulator\n",
    "    simulator = Aer.get_backend('qasm_simulator')\n",
    "\n",
    "    # Execute the circuit on the qasm simulator\n",
    "    job = execute(circuit, simulator, shots=shots)\n",
    "\n",
    "    # Get results from the job\n",
    "    result = job.result()\n",
    "    \n",
    "    # Get output from the result object\n",
    "    counts = result.get_counts(circuit)\n",
    "    \n",
    "    return counts"
   ]
  },
  {
   "cell_type": "markdown",
   "metadata": {},
   "source": [
    "**1) Teleport a qubit in the state $\\frac{1}{\\sqrt 2}(|0\\rangle + |1\\rangle)$**"
   ]
  },
  {
   "cell_type": "code",
   "execution_count": 48,
   "metadata": {},
   "outputs": [
    {
     "data": {
      "image/png": "[encoded data removed]",
      "text/plain": [
       "<Figure size 840.392x264.88 with 1 Axes>"
      ]
     },
     "execution_count": 48,
     "metadata": {},
     "output_type": "execute_result"
    }
   ],
   "source": [
    "# Create the 3 qubit circuit\n",
    "circuit = QuantumCircuit(3, 1)\n",
    "\n",
    "# Prepare the qubit to teleport\n",
    "circuit.h(0)\n",
    "circuit.barrier()\n",
    "\n",
    "# Create entangled state between sender and receiver qubit\n",
    "circuit.h(1)\n",
    "circuit.cx(1, 2)\n",
    "\n",
    "# Entangle teleport qubit and sender qubit\n",
    "circuit.cx(0, 1)\n",
    "circuit.h(0)\n",
    "circuit.barrier()\n",
    "\n",
    "# Relay information from sender to receiver\n",
    "circuit.cx(1,2)\n",
    "circuit.cz(0,2)\n",
    "circuit.barrier()\n",
    "\n",
    "# Measure the receiver qubit\n",
    "circuit.measure(2, 0)\n",
    "\n",
    "# Draw the circuit\n",
    "circuit.draw()"
   ]
  },
  {
   "cell_type": "code",
   "execution_count": 49,
   "metadata": {},
   "outputs": [
    {
     "name": "stdout",
     "output_type": "stream",
     "text": [
      "\n",
      "Teleported qubit info:  {'1': 490, '0': 534}\n"
     ]
    }
   ],
   "source": [
    "# Run circuit and display results\n",
    "result = run_circuit(circuit, 1024)\n",
    "print(\"\\nTeleported qubit info: \", result)"
   ]
  },
  {
   "cell_type": "markdown",
   "metadata": {},
   "source": [
    "**2) Teleport two bits: 01 through *Superdense Coding* algorithm**"
   ]
  },
  {
   "cell_type": "code",
   "execution_count": 66,
   "metadata": {},
   "outputs": [],
   "source": [
    "# Helper functions for Superdense Coding\n",
    "\n",
    "# Applies gates to circuit based on the given 2 bits\n",
    "def transform(circuit, qubit, bits):\n",
    "    if bits == \"00\":\n",
    "        pass\n",
    "    elif bits == \"01\":\n",
    "        circuit.z(qubit)\n",
    "    elif bits == \"10\":\n",
    "        circuit.x(qubit)\n",
    "    elif bits == \"11\":\n",
    "        circuit.z(qubit)\n",
    "        circuit.x(qubit)\n",
    "    else:\n",
    "        print(\"Error message: Invalid bits. Processing as '00' bits\")"
   ]
  },
  {
   "cell_type": "code",
   "execution_count": 69,
   "metadata": {},
   "outputs": [
    {
     "data": {
      "image/png": "[encoded data removed]",
      "text/plain": [
       "<Figure size 719.992x204.68 with 1 Axes>"
      ]
     },
     "execution_count": 69,
     "metadata": {},
     "output_type": "execute_result"
    }
   ],
   "source": [
    "# bits to encode\n",
    "bits = '01'\n",
    "\n",
    "# Create the 2 qubit circuit\n",
    "circuit = QuantumCircuit(2)\n",
    "\n",
    "# Entangle the 2 qubits\n",
    "circuit.h(0)\n",
    "circuit.cx(0,1)\n",
    "circuit.barrier()\n",
    "\n",
    "# Apply transformation gate on sender qubit\n",
    "transform(circuit, 0, bits)\n",
    "\n",
    "# Decode the bits on the receiver side\n",
    "circuit.cx(0, 1)\n",
    "circuit.h(0)\n",
    "\n",
    "# Measure the output\n",
    "circuit.measure_all()\n",
    "\n",
    "# Draw the circuit\n",
    "circuit.draw()"
   ]
  },
  {
   "cell_type": "code",
   "execution_count": 70,
   "metadata": {},
   "outputs": [
    {
     "name": "stdout",
     "output_type": "stream",
     "text": [
      "\n",
      "Teleported classical bit info:  {'01': 1024}\n"
     ]
    }
   ],
   "source": [
    "# Run circuit and display results\n",
    "result = run_circuit(circuit, 1024)\n",
    "print(\"\\nTeleported classical bit info: \", result)"
   ]
  },
  {
   "cell_type": "code",
   "execution_count": null,
   "metadata": {},
   "outputs": [],
   "source": []
  }
 ],
 "metadata": {
  "kernelspec": {
   "display_name": "Python 3",
   "language": "python",
   "name": "python3"
  },
  "language_info": {
   "codemirror_mode": {
    "name": "ipython",
    "version": 3
   },
   "file_extension": ".py",
   "mimetype": "text/x-python",
   "name": "python",
   "nbconvert_exporter": "python",
   "pygments_lexer": "ipython3",
   "version": "3.7.6"
  }
 },
 "nbformat": 4,
 "nbformat_minor": 4
}
